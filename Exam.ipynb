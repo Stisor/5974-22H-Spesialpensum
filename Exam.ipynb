{
 "cells": [
  {
   "cell_type": "markdown",
   "metadata": {},
   "source": [
    "Goals: \\\n",
    "Predict throughput (speed) \\\n",
    "Predict RTT (ping / latency) \\\n",
    "Predict lossrate "
   ]
  },
  {
   "cell_type": "markdown",
   "metadata": {},
   "source": [
    "Sql query used to get data:\n",
    "\n",
    "SELECT\n",
    "  client.Geo.Latitude AS Lat, \\\n",
    "  client.Geo.Longitude AS Long, \\\n",
    "  client.Geo.City AS City,\\\n",
    "  client.Geo.PostalCode AS PostalCode,\\\n",
    "  client.Geo.AccuracyRadiusKm AS Accuracy,\\\n",
    "  client.Geo.CountryCode, \\\n",
    "  a.MeanThroughputMbps AS Mbps,\\\n",
    "  raw.StartTime AS StartTime,\\\n",
    "  raw.EndTime AS Endtime,\\\n",
    "  a.*\\\n",
    "FROM\\\n",
    "  `measurement-lab.ndt.ndt7`\\\n",
    "WHERE\\\n",
    "  date BETWEEN \"2017-04-11\"\\\n",
    "  AND \"2022-04-11\"\\\n",
    "  AND client.Geo.CountryCode = \"NO\"\\\n",
    "  AND client.Geo.AccuracyRadiusKm <= 5\\\n",
    "  --AND a.CongestionControl = \"cubic\"\\\n",
    "  --AND a.CongestionControl = \"bbr\"\\\n",
    "ORDER BY Endtime asc \n",
    "\n"
   ]
  },
  {
   "cell_type": "markdown",
   "metadata": {},
   "source": [
    "Imports"
   ]
  },
  {
   "cell_type": "code",
   "execution_count": 14,
   "metadata": {},
   "outputs": [],
   "source": [
    "import numpy as np\n",
    "import pandas as pd\n",
    "import matplotlib.pyplot as plt\n",
    "from sklearn.cluster import KMeans\n",
    "from sklearn.datasets import make_classification\n",
    "from matplotlib import colors\n",
    "import plotly.graph_objects as go\n",
    "import folium\n",
    "from folium import plugins\n",
    "from sklearn.model_selection import train_test_split\n",
    "#import mglearn\n",
    "from sklearn.multioutput import MultiOutputRegressor\n",
    "from sklearn.neighbors import *\n",
    "from sklearn.preprocessing import StandardScaler, PolynomialFeatures\n",
    "from sklearn.metrics import classification_report, confusion_matrix, accuracy_score, mean_squared_error, r2_score\n",
    "from sklearn.tree import DecisionTreeClassifier\n",
    "from sklearn.ensemble import RandomForestClassifier\n",
    "from sklearn.linear_model import LogisticRegression , LinearRegression, TweedieRegressor, SGDRegressor, Lasso\n",
    "from sklearn.pipeline import Pipeline, make_pipeline\n",
    "from sklearn.model_selection import cross_val_score\n",
    "import feather\n",
    "import os"
   ]
  },
  {
   "cell_type": "markdown",
   "metadata": {},
   "source": [
    "Reading CSV and converting it to Feather format, if it exsists, otherwise read the Feather format"
   ]
  },
  {
   "cell_type": "code",
   "execution_count": 17,
   "metadata": {},
   "outputs": [
    {
     "name": "stdout",
     "output_type": "stream",
     "text": [
      "File exists\n"
     ]
    }
   ],
   "source": [
    "path = 'testdata.csv'\n",
    "if os.path.exists(path):\n",
    "    names = ['Lat', 'Long', 'City', 'PostalCode', 'Accuracy',\t'CountryCode', 'Mbps',\t'StartTime',\n",
    "         'Endtime', 'UUID', 'TestTime',\t'CongestionControl', 'MeanThroughputMbps',\t'MinRTT', 'LossRate']\n",
    "    dataFrame = pd.read_csv('testdata.csv', sep=',', nrows=1_000_000, names=names)\n",
    "\n",
    "    print('File exists')\n",
    "else:\n",
    "    dataFrame = feather.read_dataframe('testdata.feather')\n",
    "        \n",
    "    print('File does not exist')\n",
    "\n",
    "\n",
    "feather.write_dataframe(dataFrame, 'testdata.feather')\n",
    "\n",
    "dataFrame = feather.read_dataframe('testdata.feather')"
   ]
  },
  {
   "cell_type": "code",
   "execution_count": 4,
   "metadata": {},
   "outputs": [
    {
     "name": "stdout",
     "output_type": "stream",
     "text": [
      "       Lat     Long    City  PostalCode  Accuracy CountryCode       Mbps  \\\n",
      "0  63.2900  10.2707  Melhus      7224.0         5          NO  68.159229   \n",
      "1  63.2900  10.2707  Melhus      7224.0         5          NO  76.744481   \n",
      "2  63.3768  10.3923  Tiller      7075.0         1          NO   8.088556   \n",
      "3  63.3768  10.3923  Tiller      7075.0         1          NO  27.124351   \n",
      "4  63.3768  10.3923  Tiller      7075.0         1          NO   8.266963   \n",
      "\n",
      "                        StartTime                         Endtime  \\\n",
      "0  2020-05-17 20:08:11.283101 UTC  2020-05-17 20:08:21.299873 UTC   \n",
      "1  2020-05-17 20:08:21.395899 UTC  2020-05-17 20:08:31.464652 UTC   \n",
      "2  2020-05-27 10:34:20.960903 UTC  2020-05-27 10:34:31.194652 UTC   \n",
      "3  2020-05-27 10:34:10.488327 UTC  2020-05-27 10:37:59.533387 UTC   \n",
      "4  2020-05-27 10:41:18.545301 UTC  2020-05-27 10:41:28.755947 UTC   \n",
      "\n",
      "                                    UUID                        TestTime  \\\n",
      "0  ndt-t4mj4_1589315185_000000000002DBB9  2020-05-17 20:08:11.283101 UTC   \n",
      "1  ndt-t4mj4_1589315185_000000000002DBC4    2020-05-17 20:08:21.3959 UTC   \n",
      "2  ndt-t4mj4_1589315185_000000000007AC01  2020-05-27 10:34:20.960903 UTC   \n",
      "3  ndt-t4mj4_1589315185_000000000007ABFA  2020-05-27 10:34:10.488327 UTC   \n",
      "4  ndt-t4mj4_1589315185_000000000007AC9B  2020-05-27 10:41:18.545302 UTC   \n",
      "\n",
      "  CongestionControl  MeanThroughputMbps  MinRTT  LossRate  \n",
      "0               bbr           68.159229  15.857       0.0  \n",
      "1               bbr           76.744481  16.194       0.0  \n",
      "2               bbr            8.088556  23.036       0.0  \n",
      "3               bbr           27.124351  21.898       0.0  \n",
      "4               bbr            8.266963  20.000       0.0  \n",
      "(1048575, 15)\n"
     ]
    }
   ],
   "source": [
    "print (dataFrame.head())\n",
    "print (dataFrame.shape)"
   ]
  },
  {
   "cell_type": "markdown",
   "metadata": {},
   "source": [
    "New dataset with only the columns we want, and only the rows we want"
   ]
  },
  {
   "cell_type": "code",
   "execution_count": 5,
   "metadata": {},
   "outputs": [],
   "source": [
    "newDataFrame = dataFrame[['MinRTT', 'Mbps']]\n",
    "newDataFrame = newDataFrame[newDataFrame['MinRTT'] < 1000]\n",
    "newDataFrame = newDataFrame[newDataFrame['Mbps'] < 1000]\n",
    "\n",
    "newDataFrame = newDataFrame[newDataFrame['MinRTT'] > 0]\n",
    "newDataFrame = newDataFrame[newDataFrame['Mbps'] > 5]"
   ]
  },
  {
   "cell_type": "markdown",
   "metadata": {},
   "source": [
    "Show 10 largest and 10 smallest values"
   ]
  },
  {
   "cell_type": "code",
   "execution_count": 6,
   "metadata": {},
   "outputs": [
    {
     "name": "stdout",
     "output_type": "stream",
     "text": [
      "         MinRTT       Mbps\n",
      "594293  755.596   6.047078\n",
      "129666  645.882   6.141626\n",
      "572622  637.614   5.852613\n",
      "617598  611.710   9.698824\n",
      "670635  569.387   5.968112\n",
      "988860  566.696   5.329417\n",
      "734997  561.994   7.265100\n",
      "294793  533.140   7.111650\n",
      "129258  518.634  10.485073\n",
      "840607  513.241   7.221992\n",
      "         MinRTT        Mbps\n",
      "610328    0.284  515.552886\n",
      "923042    0.286  506.640531\n",
      "1045925   0.316   80.650714\n",
      "882896    0.321  491.401198\n",
      "929762    0.322  239.108586\n",
      "732128    0.323  928.859577\n",
      "929761    0.323  868.057288\n",
      "1045924   0.325   73.087529\n",
      "319186    0.327  363.698181\n",
      "559160    0.331  428.737590\n"
     ]
    }
   ],
   "source": [
    "# Print the 10 highest values\n",
    "print(newDataFrame.nlargest(10, 'MinRTT'))\n",
    "\n",
    "# Print the 10 lowest values\n",
    "print(newDataFrame.nsmallest(10, 'MinRTT'))"
   ]
  },
  {
   "cell_type": "code",
   "execution_count": 7,
   "metadata": {},
   "outputs": [],
   "source": [
    "X = newDataFrame['Mbps'].values.reshape(-1, 1)\n",
    "y = newDataFrame['MinRTT']"
   ]
  },
  {
   "cell_type": "markdown",
   "metadata": {},
   "source": [
    "Make train and test sets"
   ]
  },
  {
   "cell_type": "code",
   "execution_count": 8,
   "metadata": {},
   "outputs": [],
   "source": [
    "\n",
    "X_train, X_test, y_train, y_test = train_test_split(X, y, test_size=0.3, random_state=0)"
   ]
  },
  {
   "cell_type": "markdown",
   "metadata": {},
   "source": [
    "Linear Regression / Polynomial Regression"
   ]
  },
  {
   "cell_type": "code",
   "execution_count": 9,
   "metadata": {},
   "outputs": [
    {
     "data": {
      "image/png": "[encoded data removed]",
      "text/plain": [
       "<Figure size 2000x400 with 4 Axes>"
      ]
     },
     "metadata": {},
     "output_type": "display_data"
    }
   ],
   "source": [
    "degrees = [i for i in range(1, 5)]\n",
    "\n",
    "\n",
    "plt.figure(figsize=(20, 4))\n",
    "for i in range(len(degrees)):\n",
    "    ax = plt.subplot(1, len(degrees), i + 1)\n",
    "    plt.setp(ax, xticks=(), yticks=())\n",
    "\n",
    "    poly_features = PolynomialFeatures(\n",
    "        degree=degrees[i], include_bias=False, interaction_only=False)\n",
    "    X_poly = poly_features.fit_transform(X)\n",
    "\n",
    "    linear_reg = LinearRegression()\n",
    "\n",
    "    linear_reg.fit(X_poly, y)\n",
    "    linear_reg.set_params()\n",
    "\n",
    "    X_vals = np.linspace(0, 1000, 1_400_000).reshape(-1, 1)\n",
    "    X_vals_poly = poly_features.transform(X_vals)\n",
    "\n",
    "    y_vals = linear_reg.predict(X_vals_poly)\n",
    "\n",
    "    # Evaluate the model\n",
    "    y_pred = linear_reg.predict(X_poly)\n",
    "    mse = mean_squared_error(y, y_pred)\n",
    "    r2 = r2_score(y, y_pred)\n",
    "\n",
    "    plt.scatter(X, y, s=0.1, alpha=0.1,\n",
    "                color='red', label=\"Training data\")\n",
    "    plt.plot(X_vals, y_vals, label=\"Model\")\n",
    "    plt.xlabel(\"Mbps\")\n",
    "    plt.ylabel(\"MinRTT\")\n",
    "    plt.legend(loc=\"upper right\")\n",
    "    plt.title(\"Degree {}, MSE = {:.2f}, R Squared = {:.2f}\".format(\n",
    "        degrees[i], mse, r2))\n",
    "plt.show()\n"
   ]
  },
  {
   "cell_type": "markdown",
   "metadata": {},
   "source": [
    "Use Mpbs to predict if Lat and Long are in city"
   ]
  },
  {
   "cell_type": "code",
   "execution_count": 10,
   "metadata": {},
   "outputs": [
    {
     "name": "stdout",
     "output_type": "stream",
     "text": [
      "               Mbps  MinRTT  LossRate\n",
      "0         68.159229  15.857  0.000000\n",
      "1         76.744481  16.194  0.000000\n",
      "2          8.088556  23.036  0.000000\n",
      "3         27.124351  21.898  0.000000\n",
      "4          8.266963  20.000  0.000000\n",
      "...             ...     ...       ...\n",
      "1048570   14.129729  18.606  0.000021\n",
      "1048571  234.351104  15.897  0.000000\n",
      "1048572  164.885260  15.636  0.000000\n",
      "1048573   41.368126  18.912  0.000042\n",
      "1048574   29.927483  14.150  0.000000\n",
      "\n",
      "[1048575 rows x 3 columns]\n",
      "\n",
      "\n",
      "(1048575,)\n"
     ]
    }
   ],
   "source": [
    "# Mpbs, Lat, Long\n",
    "x = dataFrame.iloc[:, [6,13,14]]\n",
    "# City\n",
    "y = dataFrame.iloc[:,2]\n",
    "y = y.to_frame()\n",
    "y = y.notnull().astype('int')\n",
    "y = y.values.ravel()\n",
    "\n",
    "print (x)\n",
    "print (\"\\n\")\n",
    "print (y.shape)"
   ]
  },
  {
   "cell_type": "code",
   "execution_count": 11,
   "metadata": {},
   "outputs": [
    {
     "name": "stdout",
     "output_type": "stream",
     "text": [
      "              precision    recall  f1-score   support\n",
      "\n",
      "           0       0.50      0.00      0.00      4021\n",
      "           1       0.99      1.00      0.99    310552\n",
      "\n",
      "    accuracy                           0.99    314573\n",
      "   macro avg       0.74      0.50      0.50    314573\n",
      "weighted avg       0.98      0.99      0.98    314573\n",
      "\n",
      "[[     2   4019]\n",
      " [     2 310550]]\n"
     ]
    }
   ],
   "source": [
    "x_train, x_test, y_train, y_test = train_test_split(x, y, test_size=0.3)\n",
    "\n",
    "scaler = StandardScaler()\n",
    "scaler.fit(x_train)\n",
    "\n",
    "x_train = scaler.transform(x_train)\n",
    "x_test = scaler.transform(x_test)\n",
    "\n",
    "classifier = KNeighborsClassifier(n_neighbors=10)\n",
    "classifier.fit(x_train, y_train)\n",
    "\n",
    "y_pred = classifier.predict(x_test)\n",
    "\n",
    "print(classification_report(y_test, y_pred))\n",
    "\n",
    "ZeroDivisionError = confusion_matrix(y_test, y_pred)\n",
    "print(ZeroDivisionError)"
   ]
  },
  {
   "cell_type": "markdown",
   "metadata": {},
   "source": [
    "Generate Map"
   ]
  },
  {
   "cell_type": "code",
   "execution_count": 14,
   "metadata": {},
   "outputs": [],
   "source": [
    "# Get Mbps, Longitude and Latitude from the dataframe\n",
    "dataFrame = dataFrame[['Mbps', 'Long', 'Lat']]\n",
    "# Make Mbps, Longitude and Latitude into X, Y and Z\n",
    "z_Mbps = dataFrame['Mbps']\n",
    "x_long = dataFrame['Long'].values.reshape(-1, 1)\n",
    "y_lat = dataFrame['Lat'].values.reshape(-1, 1)\n",
    "\n",
    "\n",
    "x_long.astype(float)\n",
    "y.astype(float)\n",
    "z_Mbps.astype(float)\n",
    "\n",
    "X = np.array(list(zip(x_long, y_lat))).reshape(len(x_long), 2)\n",
    "kmeans = KMeans(n_clusters=800).fit(X, sample_weight=z_Mbps)\n",
    "centroids = kmeans.cluster_centers_\n",
    "\n",
    "#create heatmap\n",
    "map = folium.Map(location=[60.4720, 8.4689], zoom_start=5)\n",
    "map.add_child(plugins.HeatMap([[centroids[i][1], centroids[i][0]] for i in range(len(centroids))], radius=20))\n",
    "map.save('map.html')"
   ]
  },
  {
   "cell_type": "code",
   "execution_count": 12,
   "metadata": {},
   "outputs": [
    {
     "name": "stderr",
     "output_type": "stream",
     "text": [
      "C:\\Users\\01sti\\AppData\\Local\\Temp\\ipykernel_109924\\1616173250.py:23: VisibleDeprecationWarning: Creating an ndarray from ragged nested sequences (which is a list-or-tuple of lists-or-tuples-or ndarrays with different lengths or shapes) is deprecated. If you meant to do this, you must specify 'dtype=object' when creating the ndarray.\n",
      "  data_yz = np.array([Y, Z]).reshape(-1, 1)\n"
     ]
    },
    {
     "ename": "ValueError",
     "evalue": "Expected 2D array, got 1D array instead:\narray=[0.33544343 0.20096522 0.01550284 ... 0.81024851 0.00213535 0.00415506].\nReshape your data either using array.reshape(-1, 1) if your data has a single feature or array.reshape(1, -1) if it contains a single sample.",
     "output_type": "error",
     "traceback": [
      "\u001b[1;31m---------------------------------------------------------------------------\u001b[0m",
      "\u001b[1;31mValueError\u001b[0m                                Traceback (most recent call last)",
      "Cell \u001b[1;32mIn [12], line 27\u001b[0m\n\u001b[0;32m     25\u001b[0m \u001b[39m# Polynomial features\u001b[39;00m\n\u001b[0;32m     26\u001b[0m poly_features \u001b[39m=\u001b[39m PolynomialFeatures(degree\u001b[39m=\u001b[39m\u001b[39m2\u001b[39m)\n\u001b[1;32m---> 27\u001b[0m X_poly \u001b[39m=\u001b[39m poly_features\u001b[39m.\u001b[39mfit_transform(X)\n\u001b[0;32m     29\u001b[0m \u001b[39m# Linear regression\u001b[39;00m\n\u001b[0;32m     30\u001b[0m model \u001b[39m=\u001b[39m LinearRegression()\n",
      "File \u001b[1;32mc:\\Python310\\lib\\site-packages\\sklearn\\base.py:867\u001b[0m, in \u001b[0;36mTransformerMixin.fit_transform\u001b[1;34m(self, X, y, **fit_params)\u001b[0m\n\u001b[0;32m    863\u001b[0m \u001b[39m# non-optimized default implementation; override when a better\u001b[39;00m\n\u001b[0;32m    864\u001b[0m \u001b[39m# method is possible for a given clustering algorithm\u001b[39;00m\n\u001b[0;32m    865\u001b[0m \u001b[39mif\u001b[39;00m y \u001b[39mis\u001b[39;00m \u001b[39mNone\u001b[39;00m:\n\u001b[0;32m    866\u001b[0m     \u001b[39m# fit method of arity 1 (unsupervised transformation)\u001b[39;00m\n\u001b[1;32m--> 867\u001b[0m     \u001b[39mreturn\u001b[39;00m \u001b[39mself\u001b[39m\u001b[39m.\u001b[39mfit(X, \u001b[39m*\u001b[39m\u001b[39m*\u001b[39mfit_params)\u001b[39m.\u001b[39mtransform(X)\n\u001b[0;32m    868\u001b[0m \u001b[39melse\u001b[39;00m:\n\u001b[0;32m    869\u001b[0m     \u001b[39m# fit method of arity 2 (supervised transformation)\u001b[39;00m\n\u001b[0;32m    870\u001b[0m     \u001b[39mreturn\u001b[39;00m \u001b[39mself\u001b[39m\u001b[39m.\u001b[39mfit(X, y, \u001b[39m*\u001b[39m\u001b[39m*\u001b[39mfit_params)\u001b[39m.\u001b[39mtransform(X)\n",
      "File \u001b[1;32mc:\\Python310\\lib\\site-packages\\sklearn\\preprocessing\\_polynomial.py:287\u001b[0m, in \u001b[0;36mPolynomialFeatures.fit\u001b[1;34m(self, X, y)\u001b[0m\n\u001b[0;32m    270\u001b[0m \u001b[39mdef\u001b[39;00m \u001b[39mfit\u001b[39m(\u001b[39mself\u001b[39m, X, y\u001b[39m=\u001b[39m\u001b[39mNone\u001b[39;00m):\n\u001b[0;32m    271\u001b[0m     \u001b[39m\"\"\"\u001b[39;00m\n\u001b[0;32m    272\u001b[0m \u001b[39m    Compute number of output features.\u001b[39;00m\n\u001b[0;32m    273\u001b[0m \n\u001b[1;32m   (...)\u001b[0m\n\u001b[0;32m    285\u001b[0m \u001b[39m        Fitted transformer.\u001b[39;00m\n\u001b[0;32m    286\u001b[0m \u001b[39m    \"\"\"\u001b[39;00m\n\u001b[1;32m--> 287\u001b[0m     _, n_features \u001b[39m=\u001b[39m \u001b[39mself\u001b[39;49m\u001b[39m.\u001b[39;49m_validate_data(X, accept_sparse\u001b[39m=\u001b[39;49m\u001b[39mTrue\u001b[39;49;00m)\u001b[39m.\u001b[39mshape\n\u001b[0;32m    289\u001b[0m     \u001b[39mif\u001b[39;00m \u001b[39misinstance\u001b[39m(\u001b[39mself\u001b[39m\u001b[39m.\u001b[39mdegree, numbers\u001b[39m.\u001b[39mIntegral):\n\u001b[0;32m    290\u001b[0m         \u001b[39mif\u001b[39;00m \u001b[39mself\u001b[39m\u001b[39m.\u001b[39mdegree \u001b[39m<\u001b[39m \u001b[39m0\u001b[39m:\n",
      "File \u001b[1;32mc:\\Python310\\lib\\site-packages\\sklearn\\base.py:577\u001b[0m, in \u001b[0;36mBaseEstimator._validate_data\u001b[1;34m(self, X, y, reset, validate_separately, **check_params)\u001b[0m\n\u001b[0;32m    575\u001b[0m     \u001b[39mraise\u001b[39;00m \u001b[39mValueError\u001b[39;00m(\u001b[39m\"\u001b[39m\u001b[39mValidation should be done on X, y or both.\u001b[39m\u001b[39m\"\u001b[39m)\n\u001b[0;32m    576\u001b[0m \u001b[39melif\u001b[39;00m \u001b[39mnot\u001b[39;00m no_val_X \u001b[39mand\u001b[39;00m no_val_y:\n\u001b[1;32m--> 577\u001b[0m     X \u001b[39m=\u001b[39m check_array(X, input_name\u001b[39m=\u001b[39m\u001b[39m\"\u001b[39m\u001b[39mX\u001b[39m\u001b[39m\"\u001b[39m, \u001b[39m*\u001b[39m\u001b[39m*\u001b[39mcheck_params)\n\u001b[0;32m    578\u001b[0m     out \u001b[39m=\u001b[39m X\n\u001b[0;32m    579\u001b[0m \u001b[39melif\u001b[39;00m no_val_X \u001b[39mand\u001b[39;00m \u001b[39mnot\u001b[39;00m no_val_y:\n",
      "File \u001b[1;32mc:\\Python310\\lib\\site-packages\\sklearn\\utils\\validation.py:879\u001b[0m, in \u001b[0;36mcheck_array\u001b[1;34m(array, accept_sparse, accept_large_sparse, dtype, order, copy, force_all_finite, ensure_2d, allow_nd, ensure_min_samples, ensure_min_features, estimator, input_name)\u001b[0m\n\u001b[0;32m    877\u001b[0m     \u001b[39m# If input is 1D raise error\u001b[39;00m\n\u001b[0;32m    878\u001b[0m     \u001b[39mif\u001b[39;00m array\u001b[39m.\u001b[39mndim \u001b[39m==\u001b[39m \u001b[39m1\u001b[39m:\n\u001b[1;32m--> 879\u001b[0m         \u001b[39mraise\u001b[39;00m \u001b[39mValueError\u001b[39;00m(\n\u001b[0;32m    880\u001b[0m             \u001b[39m\"\u001b[39m\u001b[39mExpected 2D array, got 1D array instead:\u001b[39m\u001b[39m\\n\u001b[39;00m\u001b[39marray=\u001b[39m\u001b[39m{}\u001b[39;00m\u001b[39m.\u001b[39m\u001b[39m\\n\u001b[39;00m\u001b[39m\"\u001b[39m\n\u001b[0;32m    881\u001b[0m             \u001b[39m\"\u001b[39m\u001b[39mReshape your data either using array.reshape(-1, 1) if \u001b[39m\u001b[39m\"\u001b[39m\n\u001b[0;32m    882\u001b[0m             \u001b[39m\"\u001b[39m\u001b[39myour data has a single feature or array.reshape(1, -1) \u001b[39m\u001b[39m\"\u001b[39m\n\u001b[0;32m    883\u001b[0m             \u001b[39m\"\u001b[39m\u001b[39mif it contains a single sample.\u001b[39m\u001b[39m\"\u001b[39m\u001b[39m.\u001b[39mformat(array)\n\u001b[0;32m    884\u001b[0m         )\n\u001b[0;32m    886\u001b[0m \u001b[39mif\u001b[39;00m dtype_numeric \u001b[39mand\u001b[39;00m array\u001b[39m.\u001b[39mdtype\u001b[39m.\u001b[39mkind \u001b[39min\u001b[39;00m \u001b[39m\"\u001b[39m\u001b[39mUSV\u001b[39m\u001b[39m\"\u001b[39m:\n\u001b[0;32m    887\u001b[0m     \u001b[39mraise\u001b[39;00m \u001b[39mValueError\u001b[39;00m(\n\u001b[0;32m    888\u001b[0m         \u001b[39m\"\u001b[39m\u001b[39mdtype=\u001b[39m\u001b[39m'\u001b[39m\u001b[39mnumeric\u001b[39m\u001b[39m'\u001b[39m\u001b[39m is not compatible with arrays of bytes/strings.\u001b[39m\u001b[39m\"\u001b[39m\n\u001b[0;32m    889\u001b[0m         \u001b[39m\"\u001b[39m\u001b[39mConvert your data to numeric values explicitly instead.\u001b[39m\u001b[39m\"\u001b[39m\n\u001b[0;32m    890\u001b[0m     )\n",
      "\u001b[1;31mValueError\u001b[0m: Expected 2D array, got 1D array instead:\narray=[0.33544343 0.20096522 0.01550284 ... 0.81024851 0.00213535 0.00415506].\nReshape your data either using array.reshape(-1, 1) if your data has a single feature or array.reshape(1, -1) if it contains a single sample."
     ]
    }
   ],
   "source": [
    "# Get Lossrate MinRTT and Mbps from the dataframe\n",
    "dataFrame = dataFrame[['LossRate', 'MinRTT', 'Mbps']]\n",
    "# Make LossRate, MinRTT and Mbps into X, Y and Z\n",
    "X = dataFrame['LossRate'].values.reshape(-1, 1)\n",
    "Y = dataFrame['MinRTT'].values.reshape(-1, 1)\n",
    "Z = dataFrame['Mbps'].values.reshape(-1, 1)\n",
    "\n",
    "\n",
    "# Remove outliers\n",
    "X = X[X < 1000]\n",
    "Y = Y[Y < 1000]\n",
    "Z = Z[Z < 1000]\n",
    "\n",
    "# Remove negative values\n",
    "X = X[X > 0]\n",
    "Y = Y[Y > 0]\n",
    "Z = Z[Z > 0]\n",
    "\n",
    "# Exagurate LossRate \n",
    "X = X * 100\n",
    "\n",
    "# Combine Y and Z into one array\n",
    "data_yz = np.array([Y, Z]).reshape(-1, 1)\n",
    "\n",
    "# Polynomial features\n",
    "poly_features = PolynomialFeatures(degree=2)\n",
    "X_poly = poly_features.fit_transform(X)\n",
    "\n",
    "# Linear regression\n",
    "model = LinearRegression()\n",
    "model.fit(X_poly, data_yz)\n",
    "y_poly_pred = model.predict(X_poly)\n",
    "\n",
    "# Evaluate the model\n",
    "mse = mean_squared_error(data_yz, y_poly_pred)\n",
    "r2 = r2_score(data_yz, y_poly_pred)\n",
    "\n"
   ]
  },
  {
   "cell_type": "code",
   "execution_count": null,
   "metadata": {},
   "outputs": [],
   "source": [
    "# Create a 3D plot\n",
    "fig = go.Figure(data=[go.Scatter3d(\n",
    "    x=X_test['LossRate'],\n",
    "    y=X_test['Mbps'],\n",
    "    z=y_test,\n",
    "    mode='markers',\n",
    "    marker=dict(\n",
    "        size=1,\n",
    "        color=y_test,\n",
    "        colorscale='Viridis',\n",
    "        opacity=0.8\n",
    "    )\n",
    ")])\n",
    "\n",
    "# Add a regression plane\n",
    "fig.add_trace(go.Surface(\n",
    "    x=X_test['LossRate'],\n",
    "    y=X_test['Mbps'],\n",
    "    z=y_pred,\n",
    "    opacity=1,\n",
    "    showscale=False\n",
    "))\n",
    "\n",
    "# Update the layout\n",
    "fig.update_layout(\n",
    "    title='MinRTT',\n",
    "    scene=dict(\n",
    "        xaxis_title='LossRate',\n",
    "        yaxis_title='Mbps',\n",
    "        zaxis_title='MinRTT'\n",
    "    ),\n",
    "    width=700,\n",
    "    margin=dict(r=20, b=10, l=10, t=10)\n",
    ")\n",
    "\n",
    "# Show the plot\n",
    "fig.show()\n",
    "\n"
   ]
  },
  {
   "cell_type": "code",
   "execution_count": null,
   "metadata": {},
   "outputs": [
    {
     "ename": "AttributeError",
     "evalue": "'numpy.ndarray' object has no attribute 'nsmallest'",
     "output_type": "error",
     "traceback": [
      "\u001b[1;31m---------------------------------------------------------------------------\u001b[0m",
      "\u001b[1;31mAttributeError\u001b[0m                            Traceback (most recent call last)",
      "Cell \u001b[1;32mIn [28], line 2\u001b[0m\n\u001b[0;32m      1\u001b[0m \u001b[39m# Show lowest values\u001b[39;00m\n\u001b[1;32m----> 2\u001b[0m \u001b[39mprint\u001b[39m(X\u001b[39m.\u001b[39mnsmallest(\u001b[39m10\u001b[39m, \u001b[39m'\u001b[39m\u001b[39mLossRate\u001b[39m\u001b[39m'\u001b[39m))\n\u001b[0;32m      4\u001b[0m \u001b[39m# Show highest values\u001b[39;00m\n\u001b[0;32m      5\u001b[0m \u001b[39mprint\u001b[39m(X\u001b[39m.\u001b[39mnlargest(\u001b[39m10\u001b[39m, \u001b[39m'\u001b[39m\u001b[39mLossRate\u001b[39m\u001b[39m'\u001b[39m))\n",
      "\u001b[1;31mAttributeError\u001b[0m: 'numpy.ndarray' object has no attribute 'nsmallest'"
     ]
    }
   ],
   "source": [
    "# Show lowest values\n",
    "print(X.nsmallest(10, 'LossRate'))\n",
    "\n",
    "# Show highest values\n",
    "print(X.nlargest(10, 'LossRate'))\n",
    "\n"
   ]
  }
 ],
 "metadata": {
  "kernelspec": {
   "display_name": "Python 3.10.0 64-bit",
   "language": "python",
   "name": "python3"
  },
  "language_info": {
   "codemirror_mode": {
    "name": "ipython",
    "version": 3
   },
   "file_extension": ".py",
   "mimetype": "text/x-python",
   "name": "python",
   "nbconvert_exporter": "python",
   "pygments_lexer": "ipython3",
   "version": "3.10.0 (tags/v3.10.0:b494f59, Oct  4 2021, 19:00:18) [MSC v.1929 64 bit (AMD64)]"
  },
  "orig_nbformat": 4,
  "vscode": {
   "interpreter": {
    "hash": "369f2c481f4da34e4445cda3fffd2e751bd1c4d706f27375911949ba6bb62e1c"
   }
  }
 },
 "nbformat": 4,
 "nbformat_minor": 2
}
