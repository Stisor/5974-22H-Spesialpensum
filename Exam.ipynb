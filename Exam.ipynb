{
 "cells": [
  {
   "cell_type": "markdown",
   "metadata": {},
   "source": [
    "Goals: \\\n",
    "Predict throughput (speed) \\\n",
    "Predict RTT (ping / latency) \\\n",
    "Predict lossrate "
   ]
  },
  {
   "attachments": {},
   "cell_type": "markdown",
   "metadata": {
    "tags": []
   },
   "source": [
    "\n",
    "SELECT\n",
    "  client.Geo.Latitude AS Lat, \\\n",
    "  client.Geo.Longitude AS Long, \\\n",
    "  client.Geo.City AS City,\\\n",
    "  client.Geo.PostalCode AS PostalCode,\\\n",
    "  client.Geo.AccuracyRadiusKm AS Accuracy,\\\n",
    "  client.Geo.CountryCode, \\\n",
    "  a.MeanThroughputMbps AS Mbps,\\\n",
    "  raw.StartTime AS StartTime,\\\n",
    "  raw.EndTime AS Endtime,\\\n",
    "  a.*\\\n",
    "FROM\\\n",
    "  `measurement-lab.ndt.ndt7`\\\n",
    "WHERE\\\n",
    "  date BETWEEN \"2017-04-11\"\\\n",
    "  AND \"2022-04-11\"\\\n",
    "  AND client.Geo.CountryCode = \"NO\"\\\n",
    "  AND client.Geo.AccuracyRadiusKm <= 5\\\n",
    "  --AND a.CongestionControl = \"cubic\"\\\n",
    "  --AND a.CongestionControl = \"bbr\"\\\n",
    "  ORDER BY Endtime asc \n",
    "  "
   ]
  },
  {
   "cell_type": "markdown",
   "metadata": {},
   "source": [
    "Imports"
   ]
  },
  {
   "cell_type": "code",
   "execution_count": 42,
   "metadata": {},
   "outputs": [],
   "source": [
    "import numpy as np\n",
    "import pandas as pd\n",
    "import matplotlib.pyplot as plt\n",
    "from sklearn.cluster import KMeans\n",
    "from sklearn.datasets import make_classification\n",
    "from matplotlib import colors\n",
    "import plotly.graph_objects as go\n",
    "import folium\n",
    "from folium import plugins\n",
    "from sklearn.model_selection import train_test_split\n",
    "#import mglearn\n",
    "from sklearn.multioutput import MultiOutputRegressor\n",
    "from sklearn.neighbors import *\n",
    "from sklearn.preprocessing import StandardScaler, PolynomialFeatures\n",
    "from sklearn.metrics import classification_report, confusion_matrix, accuracy_score, mean_squared_error, r2_score\n",
    "from sklearn.tree import DecisionTreeClassifier\n",
    "from sklearn.ensemble import RandomForestClassifier\n",
    "from sklearn.linear_model import LogisticRegression , LinearRegression, TweedieRegressor, SGDRegressor, Lasso\n",
    "from sklearn.pipeline import Pipeline, make_pipeline\n",
    "from sklearn.model_selection import cross_val_score\n",
    "import feather\n",
    "import os"
   ]
  },
  {
   "cell_type": "markdown",
   "metadata": {},
   "source": [
    "Reading CSV and converting it to Feather format, if it exsists, otherwise read the Feather format"
   ]
  },
  {
   "cell_type": "code",
   "execution_count": 43,
   "metadata": {},
   "outputs": [
    {
     "name": "stdout",
     "output_type": "stream",
     "text": [
      "File does not exist\n"
     ]
    }
   ],
   "source": [
    "path = 'testdata.csv'\n",
    "if os.path.exists(path):\n",
    "    names = ['Lat', 'Long', 'City', 'PostalCode', 'Accuracy',\t'CountryCode', 'Mbps',\t'StartTime',\n",
    "         'Endtime', 'UUID', 'TestTime',\t'CongestionControl', 'MeanThroughputMbps',\t'MinRTT', 'LossRate']\n",
    "    dataFrame = pd.read_csv('testdata.csv', sep=',', nrows=1_000_000, names=names)\n",
    "\n",
    "    print('File exists')\n",
    "else:\n",
    "    dataFrame = feather.read_dataframe('testdata.feather')\n",
    "        \n",
    "    print('File does not exist')\n",
    "\n",
    "\n",
    "feather.write_dataframe(dataFrame, 'testdata.feather')\n",
    "\n",
    "dataFrame = feather.read_dataframe('testdata.feather')"
   ]
  },
  {
   "cell_type": "code",
   "execution_count": 44,
   "metadata": {},
   "outputs": [
    {
     "name": "stdout",
     "output_type": "stream",
     "text": [
      "       Lat     Long    City  PostalCode  Accuracy CountryCode       Mbps  \\\n",
      "0  63.2900  10.2707  Melhus      7224.0         5          NO  68.159229   \n",
      "1  63.2900  10.2707  Melhus      7224.0         5          NO  76.744481   \n",
      "2  63.3768  10.3923  Tiller      7075.0         1          NO   8.088556   \n",
      "3  63.3768  10.3923  Tiller      7075.0         1          NO  27.124351   \n",
      "4  63.3768  10.3923  Tiller      7075.0         1          NO   8.266963   \n",
      "\n",
      "                        StartTime                         Endtime  \\\n",
      "0  2020-05-17 20:08:11.283101 UTC  2020-05-17 20:08:21.299873 UTC   \n",
      "1  2020-05-17 20:08:21.395899 UTC  2020-05-17 20:08:31.464652 UTC   \n",
      "2  2020-05-27 10:34:20.960903 UTC  2020-05-27 10:34:31.194652 UTC   \n",
      "3  2020-05-27 10:34:10.488327 UTC  2020-05-27 10:37:59.533387 UTC   \n",
      "4  2020-05-27 10:41:18.545301 UTC  2020-05-27 10:41:28.755947 UTC   \n",
      "\n",
      "                                    UUID                        TestTime  \\\n",
      "0  ndt-t4mj4_1589315185_000000000002DBB9  2020-05-17 20:08:11.283101 UTC   \n",
      "1  ndt-t4mj4_1589315185_000000000002DBC4    2020-05-17 20:08:21.3959 UTC   \n",
      "2  ndt-t4mj4_1589315185_000000000007AC01  2020-05-27 10:34:20.960903 UTC   \n",
      "3  ndt-t4mj4_1589315185_000000000007ABFA  2020-05-27 10:34:10.488327 UTC   \n",
      "4  ndt-t4mj4_1589315185_000000000007AC9B  2020-05-27 10:41:18.545302 UTC   \n",
      "\n",
      "  CongestionControl  MeanThroughputMbps  MinRTT  LossRate  \n",
      "0               bbr           68.159229  15.857       0.0  \n",
      "1               bbr           76.744481  16.194       0.0  \n",
      "2               bbr            8.088556  23.036       0.0  \n",
      "3               bbr           27.124351  21.898       0.0  \n",
      "4               bbr            8.266963  20.000       0.0  \n",
      "(918455, 15)\n"
     ]
    }
   ],
   "source": [
    "print (dataFrame.head())\n",
    "print (dataFrame.shape)"
   ]
  },
  {
   "cell_type": "markdown",
   "metadata": {},
   "source": [
    "New dataset with only the columns we want, and only the rows we want"
   ]
  },
  {
   "cell_type": "code",
   "execution_count": 45,
   "metadata": {},
   "outputs": [],
   "source": [
    "newDataFrame = dataFrame[['MinRTT', 'Mbps']]\n",
    "newDataFrame = newDataFrame[newDataFrame['MinRTT'] < 1000]\n",
    "newDataFrame = newDataFrame[newDataFrame['Mbps'] < 1000]\n",
    "\n",
    "newDataFrame = newDataFrame[newDataFrame['MinRTT'] > 0]\n",
    "newDataFrame = newDataFrame[newDataFrame['Mbps'] > 5]"
   ]
  },
  {
   "cell_type": "markdown",
   "metadata": {},
   "source": [
    "Show 10 largest and 10 smallest values"
   ]
  },
  {
   "cell_type": "code",
   "execution_count": 46,
   "metadata": {},
   "outputs": [
    {
     "name": "stdout",
     "output_type": "stream",
     "text": [
      "         MinRTT       Mbps\n",
      "594200  755.596   6.047078\n",
      "129664  645.882   6.141626\n",
      "572539  637.614   5.852613\n",
      "617505  611.710   9.698824\n",
      "670542  569.387   5.968112\n",
      "734843  561.994   7.265100\n",
      "294696  533.140   7.111650\n",
      "129256  518.634  10.485073\n",
      "840453  513.241   7.221992\n",
      "670632  510.501   7.650432\n",
      "        MinRTT        Mbps\n",
      "610235   0.284  515.552886\n",
      "882742   0.321  491.401198\n",
      "731974   0.323  928.859577\n",
      "319089   0.327  363.698181\n",
      "559077   0.331  428.737590\n",
      "426612   0.332  868.411168\n",
      "609934   0.333  511.959312\n",
      "46665    0.334  495.878442\n",
      "537463   0.337  498.917441\n",
      "594480   0.337  473.328177\n"
     ]
    }
   ],
   "source": [
    "# Print the 10 highest values\n",
    "print(newDataFrame.nlargest(10, 'MinRTT'))\n",
    "\n",
    "# Print the 10 lowest values\n",
    "print(newDataFrame.nsmallest(10, 'MinRTT'))"
   ]
  },
  {
   "cell_type": "code",
   "execution_count": 47,
   "metadata": {},
   "outputs": [],
   "source": [
    "X = newDataFrame['Mbps'].values.reshape(-1, 1)\n",
    "y = newDataFrame['MinRTT']"
   ]
  },
  {
   "cell_type": "markdown",
   "metadata": {},
   "source": [
    "Make train and test sets"
   ]
  },
  {
   "cell_type": "code",
   "execution_count": 48,
   "metadata": {},
   "outputs": [],
   "source": [
    "\n",
    "X_train, X_test, y_train, y_test = train_test_split(X, y, test_size=0.3, random_state=0)"
   ]
  },
  {
   "cell_type": "markdown",
   "metadata": {},
   "source": [
    "Linear Regression / Polynomial Regression"
   ]
  },
  {
   "cell_type": "code",
   "execution_count": 49,
   "metadata": {},
   "outputs": [
    {
     "data": {
      "image/png": "[encoded data removed]",
      "text/plain": [
       "<Figure size 2000x400 with 4 Axes>"
      ]
     },
     "metadata": {},
     "output_type": "display_data"
    }
   ],
   "source": [
    "degrees = [i for i in range(1, 5)]\n",
    "\n",
    "\n",
    "plt.figure(figsize=(20, 4))\n",
    "for i in range(len(degrees)):\n",
    "    ax = plt.subplot(1, len(degrees), i + 1)\n",
    "    plt.setp(ax, xticks=(), yticks=())\n",
    "\n",
    "    poly_features = PolynomialFeatures(\n",
    "        degree=degrees[i], include_bias=False, interaction_only=False)\n",
    "    X_poly = poly_features.fit_transform(X)\n",
    "\n",
    "    linear_reg = LinearRegression()\n",
    "\n",
    "    linear_reg.fit(X_poly, y)\n",
    "    linear_reg.set_params()\n",
    "\n",
    "    X_vals = np.linspace(0, 1000, 1_400_000).reshape(-1, 1)\n",
    "    X_vals_poly = poly_features.transform(X_vals)\n",
    "\n",
    "    y_vals = linear_reg.predict(X_vals_poly)\n",
    "\n",
    "    # Evaluate the model\n",
    "    y_pred = linear_reg.predict(X_poly)\n",
    "    mse = mean_squared_error(y, y_pred)\n",
    "    r2 = r2_score(y, y_pred)\n",
    "\n",
    "    plt.scatter(X, y, s=0.1, alpha=0.1,\n",
    "                color='red', label=\"Training data\")\n",
    "    plt.plot(X_vals, y_vals, label=\"Model\")\n",
    "    plt.xlabel(\"Mbps\")\n",
    "    plt.ylabel(\"MinRTT\")\n",
    "    plt.legend(loc=\"upper right\")\n",
    "    plt.title(\"Degree {}, MSE = {:.2f}, R Squared = {:.2f}\".format(\n",
    "        degrees[i], mse, r2))\n",
    "plt.show()\n"
   ]
  },
  {
   "cell_type": "markdown",
   "metadata": {},
   "source": [
    "Use Mpbs to predict if Lat and Long are in city"
   ]
  },
  {
   "cell_type": "code",
   "execution_count": 50,
   "metadata": {},
   "outputs": [
    {
     "name": "stdout",
     "output_type": "stream",
     "text": [
      "              Mbps  MinRTT  LossRate\n",
      "0        68.159229  15.857  0.000000\n",
      "1        76.744481  16.194  0.000000\n",
      "2         8.088556  23.036  0.000000\n",
      "3        27.124351  21.898  0.000000\n",
      "4         8.266963  20.000  0.000000\n",
      "...            ...     ...       ...\n",
      "918450  221.115208  16.790  0.000000\n",
      "918451   60.448714   7.559  0.003145\n",
      "918452   46.270622   9.678  0.000000\n",
      "918453  283.710663  47.026  0.083987\n",
      "918454    5.747749  21.915  0.105379\n",
      "\n",
      "[918455 rows x 3 columns]\n",
      "\n",
      "\n",
      "(918455,)\n"
     ]
    }
   ],
   "source": [
    "# Mpbs, Lat, Long\n",
    "x = dataFrame.iloc[:, [6,13,14]]\n",
    "# City\n",
    "y = dataFrame.iloc[:,2]\n",
    "y = y.to_frame()\n",
    "y = y.notnull().astype('int')\n",
    "y = y.values.ravel()\n",
    "\n",
    "print (x)\n",
    "print (\"\\n\")\n",
    "print (y.shape)"
   ]
  },
  {
   "cell_type": "code",
   "execution_count": 51,
   "metadata": {},
   "outputs": [
    {
     "name": "stdout",
     "output_type": "stream",
     "text": [
      "              precision    recall  f1-score   support\n",
      "\n",
      "           0       0.25      0.00      0.00      3876\n",
      "           1       0.99      1.00      0.99    271661\n",
      "\n",
      "    accuracy                           0.99    275537\n",
      "   macro avg       0.62      0.50      0.50    275537\n",
      "weighted avg       0.98      0.99      0.98    275537\n",
      "\n",
      "[[     1   3875]\n",
      " [     3 271658]]\n"
     ]
    }
   ],
   "source": [
    "x_train, x_test, y_train, y_test = train_test_split(x, y, test_size=0.3)\n",
    "\n",
    "scaler = StandardScaler()\n",
    "scaler.fit(x_train)\n",
    "\n",
    "x_train = scaler.transform(x_train)\n",
    "x_test = scaler.transform(x_test)\n",
    "\n",
    "classifier = KNeighborsClassifier(n_neighbors=10)\n",
    "classifier.fit(x_train, y_train)\n",
    "\n",
    "y_pred = classifier.predict(x_test)\n",
    "\n",
    "print(classification_report(y_test, y_pred))\n",
    "\n",
    "ZeroDivisionError = confusion_matrix(y_test, y_pred)\n",
    "print(ZeroDivisionError)"
   ]
  },
  {
   "cell_type": "markdown",
   "metadata": {},
   "source": [
    "Generate Map"
   ]
  },
  {
   "cell_type": "code",
   "execution_count": 52,
   "metadata": {},
   "outputs": [],
   "source": [
    "# Get Mbps, Longitude and Latitude from the dataframe\n",
    "dataFrame = dataFrame[['Mbps', 'Long', 'Lat']]\n",
    "# Make Mbps, Longitude and Latitude into X, Y and Z\n",
    "z_Mbps = dataFrame['Mbps']\n",
    "x_long = dataFrame['Long'].values.reshape(-1, 1)\n",
    "y_lat = dataFrame['Lat'].values.reshape(-1, 1)\n",
    "\n",
    "\n",
    "x_long.astype(float)\n",
    "y.astype(float)\n",
    "z_Mbps.astype(float)\n",
    "\n",
    "X = np.array(list(zip(x_long, y_lat))).reshape(len(x_long), 2)\n",
    "kmeans = KMeans(n_clusters=800).fit(X, sample_weight=z_Mbps)\n",
    "centroids = kmeans.cluster_centers_\n",
    "\n",
    "#create heatmap\n",
    "map = folium.Map(location=[60.4720, 8.4689], zoom_start=5)\n",
    "map.add_child(plugins.HeatMap([[centroids[i][1], centroids[i][0]] for i in range(len(centroids))], radius=20))\n",
    "map.save('map.html')"
   ]
  },
  {
   "cell_type": "code",
   "execution_count": 53,
   "metadata": {},
   "outputs": [
    {
     "ename": "KeyError",
     "evalue": "\"['LossRate', 'MinRTT'] not in index\"",
     "output_type": "error",
     "traceback": [
      "\u001b[1;31m---------------------------------------------------------------------------\u001b[0m",
      "\u001b[1;31mKeyError\u001b[0m                                  Traceback (most recent call last)",
      "Cell \u001b[1;32mIn [53], line 2\u001b[0m\n\u001b[0;32m      1\u001b[0m \u001b[39m# Get Lossrate MinRTT and Mbps from the dataframe\u001b[39;00m\n\u001b[1;32m----> 2\u001b[0m dataFrame \u001b[39m=\u001b[39m dataFrame[[\u001b[39m'\u001b[39m\u001b[39mLossRate\u001b[39m\u001b[39m'\u001b[39m, \u001b[39m'\u001b[39m\u001b[39mMinRTT\u001b[39m\u001b[39m'\u001b[39m, \u001b[39m'\u001b[39m\u001b[39mMbps\u001b[39m\u001b[39m'\u001b[39m]]\n\u001b[0;32m      3\u001b[0m \u001b[39m# Make LossRate, MinRTT and Mbps into X, Y and Z\u001b[39;00m\n\u001b[0;32m      4\u001b[0m X \u001b[39m=\u001b[39m dataFrame[\u001b[39m'\u001b[39m\u001b[39mLossRate\u001b[39m\u001b[39m'\u001b[39m]\u001b[39m.\u001b[39mvalues\u001b[39m.\u001b[39mreshape(\u001b[39m-\u001b[39m\u001b[39m1\u001b[39m, \u001b[39m1\u001b[39m)\n",
      "File \u001b[1;32mc:\\Python310\\lib\\site-packages\\pandas\\core\\frame.py:3810\u001b[0m, in \u001b[0;36mDataFrame.__getitem__\u001b[1;34m(self, key)\u001b[0m\n\u001b[0;32m   3808\u001b[0m     \u001b[39mif\u001b[39;00m is_iterator(key):\n\u001b[0;32m   3809\u001b[0m         key \u001b[39m=\u001b[39m \u001b[39mlist\u001b[39m(key)\n\u001b[1;32m-> 3810\u001b[0m     indexer \u001b[39m=\u001b[39m \u001b[39mself\u001b[39;49m\u001b[39m.\u001b[39;49mcolumns\u001b[39m.\u001b[39;49m_get_indexer_strict(key, \u001b[39m\"\u001b[39;49m\u001b[39mcolumns\u001b[39;49m\u001b[39m\"\u001b[39;49m)[\u001b[39m1\u001b[39m]\n\u001b[0;32m   3812\u001b[0m \u001b[39m# take() does not accept boolean indexers\u001b[39;00m\n\u001b[0;32m   3813\u001b[0m \u001b[39mif\u001b[39;00m \u001b[39mgetattr\u001b[39m(indexer, \u001b[39m\"\u001b[39m\u001b[39mdtype\u001b[39m\u001b[39m\"\u001b[39m, \u001b[39mNone\u001b[39;00m) \u001b[39m==\u001b[39m \u001b[39mbool\u001b[39m:\n",
      "File \u001b[1;32mc:\\Python310\\lib\\site-packages\\pandas\\core\\indexes\\base.py:6111\u001b[0m, in \u001b[0;36mIndex._get_indexer_strict\u001b[1;34m(self, key, axis_name)\u001b[0m\n\u001b[0;32m   6108\u001b[0m \u001b[39melse\u001b[39;00m:\n\u001b[0;32m   6109\u001b[0m     keyarr, indexer, new_indexer \u001b[39m=\u001b[39m \u001b[39mself\u001b[39m\u001b[39m.\u001b[39m_reindex_non_unique(keyarr)\n\u001b[1;32m-> 6111\u001b[0m \u001b[39mself\u001b[39;49m\u001b[39m.\u001b[39;49m_raise_if_missing(keyarr, indexer, axis_name)\n\u001b[0;32m   6113\u001b[0m keyarr \u001b[39m=\u001b[39m \u001b[39mself\u001b[39m\u001b[39m.\u001b[39mtake(indexer)\n\u001b[0;32m   6114\u001b[0m \u001b[39mif\u001b[39;00m \u001b[39misinstance\u001b[39m(key, Index):\n\u001b[0;32m   6115\u001b[0m     \u001b[39m# GH 42790 - Preserve name from an Index\u001b[39;00m\n",
      "File \u001b[1;32mc:\\Python310\\lib\\site-packages\\pandas\\core\\indexes\\base.py:6174\u001b[0m, in \u001b[0;36mIndex._raise_if_missing\u001b[1;34m(self, key, indexer, axis_name)\u001b[0m\n\u001b[0;32m   6171\u001b[0m     \u001b[39mraise\u001b[39;00m \u001b[39mKeyError\u001b[39;00m(\u001b[39mf\u001b[39m\u001b[39m\"\u001b[39m\u001b[39mNone of [\u001b[39m\u001b[39m{\u001b[39;00mkey\u001b[39m}\u001b[39;00m\u001b[39m] are in the [\u001b[39m\u001b[39m{\u001b[39;00maxis_name\u001b[39m}\u001b[39;00m\u001b[39m]\u001b[39m\u001b[39m\"\u001b[39m)\n\u001b[0;32m   6173\u001b[0m not_found \u001b[39m=\u001b[39m \u001b[39mlist\u001b[39m(ensure_index(key)[missing_mask\u001b[39m.\u001b[39mnonzero()[\u001b[39m0\u001b[39m]]\u001b[39m.\u001b[39munique())\n\u001b[1;32m-> 6174\u001b[0m \u001b[39mraise\u001b[39;00m \u001b[39mKeyError\u001b[39;00m(\u001b[39mf\u001b[39m\u001b[39m\"\u001b[39m\u001b[39m{\u001b[39;00mnot_found\u001b[39m}\u001b[39;00m\u001b[39m not in index\u001b[39m\u001b[39m\"\u001b[39m)\n",
      "\u001b[1;31mKeyError\u001b[0m: \"['LossRate', 'MinRTT'] not in index\""
     ]
    }
   ],
   "source": [
    "# Get Lossrate MinRTT and Mbps from the dataframe\n",
    "dataFrame = dataFrame[['LossRate', 'MinRTT', 'Mbps']]\n",
    "# Make LossRate, MinRTT and Mbps into X, Y and Z\n",
    "X = dataFrame['LossRate'].values.reshape(-1, 1)\n",
    "Y = dataFrame['MinRTT'].values.reshape(-1, 1)\n",
    "Z = dataFrame['Mbps'].values.reshape(-1, 1)\n",
    "\n",
    "\n",
    "# Remove outliers\n",
    "X = X[X < 1000]\n",
    "Y = Y[Y < 1000]\n",
    "Z = Z[Z < 1000]\n",
    "\n",
    "# Remove negative values\n",
    "X = X[X > 0]\n",
    "Y = Y[Y > 0]\n",
    "Z = Z[Z > 0]\n",
    "\n",
    "# Exagurate LossRate \n",
    "X = X * 100\n",
    "\n",
    "# Combine Y and Z into one array\n",
    "data_yz = np.array([Y, Z]).reshape(-1, 1)\n",
    "\n",
    "# Polynomial features\n",
    "poly_features = PolynomialFeatures(degree=2)\n",
    "X_poly = poly_features.fit_transform(X)\n",
    "\n",
    "# Linear regression\n",
    "model = LinearRegression()\n",
    "model.fit(X_poly, data_yz)\n",
    "y_poly_pred = model.predict(X_poly)\n",
    "\n",
    "# Evaluate the model\n",
    "mse = mean_squared_error(data_yz, y_poly_pred)\n",
    "r2 = r2_score(data_yz, y_poly_pred)\n",
    "\n"
   ]
  },
  {
   "cell_type": "code",
   "execution_count": null,
   "metadata": {},
   "outputs": [],
   "source": [
    "# Create a 3D plot\n",
    "fig = go.Figure(data=[go.Scatter3d(\n",
    "    x=X_test['LossRate'],\n",
    "    y=X_test['Mbps'],\n",
    "    z=y_test,\n",
    "    mode='markers',\n",
    "    marker=dict(\n",
    "        size=1,\n",
    "        color=y_test,\n",
    "        colorscale='Viridis',\n",
    "        opacity=0.8\n",
    "    )\n",
    ")])\n",
    "\n",
    "# Add a regression plane\n",
    "fig.add_trace(go.Surface(\n",
    "    x=X_test['LossRate'],\n",
    "    y=X_test['Mbps'],\n",
    "    z=y_pred,\n",
    "    opacity=1,\n",
    "    showscale=False\n",
    "))\n",
    "\n",
    "# Update the layout\n",
    "fig.update_layout(\n",
    "    title='MinRTT',\n",
    "    scene=dict(\n",
    "        xaxis_title='LossRate',\n",
    "        yaxis_title='Mbps',\n",
    "        zaxis_title='MinRTT'\n",
    "    ),\n",
    "    width=700,\n",
    "    margin=dict(r=20, b=10, l=10, t=10)\n",
    ")\n",
    "\n",
    "# Show the plot\n",
    "fig.show()\n",
    "\n"
   ]
  },
  {
   "cell_type": "code",
   "execution_count": null,
   "metadata": {},
   "outputs": [
    {
     "ename": "AttributeError",
     "evalue": "'numpy.ndarray' object has no attribute 'nsmallest'",
     "output_type": "error",
     "traceback": [
      "\u001b[1;31m---------------------------------------------------------------------------\u001b[0m",
      "\u001b[1;31mAttributeError\u001b[0m                            Traceback (most recent call last)",
      "Cell \u001b[1;32mIn [28], line 2\u001b[0m\n\u001b[0;32m      1\u001b[0m \u001b[39m# Show lowest values\u001b[39;00m\n\u001b[1;32m----> 2\u001b[0m \u001b[39mprint\u001b[39m(X\u001b[39m.\u001b[39mnsmallest(\u001b[39m10\u001b[39m, \u001b[39m'\u001b[39m\u001b[39mLossRate\u001b[39m\u001b[39m'\u001b[39m))\n\u001b[0;32m      4\u001b[0m \u001b[39m# Show highest values\u001b[39;00m\n\u001b[0;32m      5\u001b[0m \u001b[39mprint\u001b[39m(X\u001b[39m.\u001b[39mnlargest(\u001b[39m10\u001b[39m, \u001b[39m'\u001b[39m\u001b[39mLossRate\u001b[39m\u001b[39m'\u001b[39m))\n",
      "\u001b[1;31mAttributeError\u001b[0m: 'numpy.ndarray' object has no attribute 'nsmallest'"
     ]
    }
   ],
   "source": [
    "# Show lowest values\n",
    "print(X.nsmallest(10, 'LossRate'))\n",
    "\n",
    "# Show highest values\n",
    "print(X.nlargest(10, 'LossRate'))\n",
    "\n"
   ]
  }
 ],
 "metadata": {
  "kernelspec": {
   "display_name": "Python 3.10.0 64-bit",
   "language": "python",
   "name": "python3"
  },
  "language_info": {
   "codemirror_mode": {
    "name": "ipython",
    "version": 3
   },
   "file_extension": ".py",
   "mimetype": "text/x-python",
   "name": "python",
   "nbconvert_exporter": "python",
   "pygments_lexer": "ipython3",
   "version": "3.10.0"
  },
  "orig_nbformat": 4,
  "vscode": {
   "interpreter": {
    "hash": "369f2c481f4da34e4445cda3fffd2e751bd1c4d706f27375911949ba6bb62e1c"
   }
  }
 },
 "nbformat": 4,
 "nbformat_minor": 2
}
